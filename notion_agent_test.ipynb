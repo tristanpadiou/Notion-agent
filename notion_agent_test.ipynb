{
 "cells": [
  {
   "cell_type": "code",
   "execution_count": 3,
   "metadata": {},
   "outputs": [],
   "source": [
    "import os\n",
    "from dotenv import load_dotenv\n",
    "load_dotenv()\n",
    "\n",
    "api_keys={\n",
    "    'google_api_key':os.getenv('google_api_key'),\n",
    "    'pse':os.getenv('pse'),\n",
    "    'openai_api_key':os.getenv('openai_api_key'),\n",
    "    'composio_key':os.getenv('composio_api_key'),\n",
    "    'notion_api_key':os.getenv('notion_integration_token')  # Add your Notion API key here\n",
    "}"
   ]
  },
  {
   "cell_type": "code",
   "execution_count": 4,
   "metadata": {},
   "outputs": [],
   "source": [
    "from composio_langgraph import Action, ComposioToolSet, App\n",
    "from utils.composio_tools_agent import Composio_agent\n",
    "from pydantic_ai import Agent, format_as_xml,RunContext\n",
    "from pydantic_ai.models.google import GoogleModel\n",
    "from pydantic_ai.providers.google import GoogleProvider\n",
    "from langchain_openai import ChatOpenAI\n",
    "from datetime import datetime\n",
    "from pydantic_ai.messages import ModelMessage\n",
    "from pydantic import BaseModel,Field\n",
    "from dataclasses import dataclass\n",
    "import nest_asyncio\n",
    "nest_asyncio.apply()"
   ]
  },
  {
   "cell_type": "code",
   "execution_count": 5,
   "metadata": {},
   "outputs": [],
   "source": [
    "from pydantic_ai.mcp import MCPServerStreamableHTTP, MCPServerSSE, MCPServerStdio\n",
    "from pydantic_ai.models.openai import OpenAIModel\n",
    "from pydantic_ai.providers.openai import OpenAIProvider\n",
    "from pydantic_ai import Agent\n",
    "from pydantic_ai.messages import ModelMessage\n",
    "from dataclasses import dataclass\n",
    "\n",
    "@dataclass\n",
    "class Message_state:\n",
    "    messages:list[ModelMessage]\n",
    "\n",
    "class NotionAgent_MCP:\n",
    "    def __init__(self, mcp_server_url:str, api_keys:dict):\n",
    "        self.mcp_server_url=mcp_server_url\n",
    "        self.api_keys=api_keys\n",
    "        self.tools=ComposioToolSet(api_key=api_keys['composio_key'])\n",
    "        self.tool_shemas={\n",
    "            'Notion Manager':{tool.name:tool for tool in self.tools.get_action_schemas(apps=[App.NOTION])}}\n",
    "        self.memory=Message_state(messages=[])\n",
    "        self.llm=OpenAIModel('gpt-4.1-nano',provider=OpenAIProvider(api_key=api_keys['openai_api_key']))\n",
    "        self.mcp_server=MCPServerStreamableHTTP(self.mcp_server_url)\n",
    "        self.agent=Agent(self.llm, mcp_servers=[self.mcp_server])\n",
    "\n",
    "    async def main(self,query:str):\n",
    "        async with self.agent.run_mcp_servers():  \n",
    "            result = self.agent.run_sync(query, message_history=self.memory.messages)\n",
    "            self.memory.messages=result.all_messages()\n",
    "        return result.output\n",
    "\n",
    "    def reset(self):\n",
    "        self.memory.messages=[]"
   ]
  },
  {
   "cell_type": "code",
   "execution_count": 6,
   "metadata": {},
   "outputs": [],
   "source": [
    "# agent2=NotionAgent_MCP(mcp_server_url=os.getenv('mcp_server_url'), api_keys=api_keys)"
   ]
  },
  {
   "cell_type": "code",
   "execution_count": 7,
   "metadata": {},
   "outputs": [],
   "source": [
    "# await agent2.main('update it to add contents: \"this is a test\"')"
   ]
  },
  {
   "cell_type": "code",
   "execution_count": 8,
   "metadata": {},
   "outputs": [],
   "source": [
    "from notion_agent import Notionagent\n"
   ]
  },
  {
   "cell_type": "code",
   "execution_count": 9,
   "metadata": {},
   "outputs": [
    {
     "name": "stderr",
     "output_type": "stream",
     "text": [
      "c:\\Users\\trist\\OneDrive\\Desktop\\important\\ai_portfolio\\Notion-agent\\.venv\\Lib\\site-packages\\composio\\client\\collections.py:1183: UserWarning: Using all actions of an app is not recommended for production.Learn more: https://docs.composio.dev/patterns/tools/use-tools/use-specific-actions\n",
      "\n",
      "Give Feedback / Get Help:\n",
      "    On GitHub: https://github.com/ComposioHQ/composio/issues/new\n",
      "    On Discord: https://dub.composio.dev/discord\n",
      "    On Email: tech@composio.dev\n",
      "    Talk to us on Intercom: https://composio.dev\n",
      "    Book a call with us: https://composio.dev/redirect?url=https://calendly.com/composiohq/support?utm_source=py-sdk-logs&utm_campaign=calendly\n",
      "If you need to debug this error, set `COMPOSIO_LOGGING_LEVEL=debug`.\n",
      "  warnings.warn(\n",
      "c:\\Users\\trist\\OneDrive\\Desktop\\important\\ai_portfolio\\Notion-agent\\.venv\\Lib\\site-packages\\composio\\client\\collections.py:1183: UserWarning: Using all actions of an app is not recommended for production.Learn more: https://docs.composio.dev/patterns/tools/use-tools/use-specific-actions\n",
      "\n",
      "\n",
      "  warnings.warn(\n"
     ]
    },
    {
     "ename": "TypeError",
     "evalue": "[StructuredTool(name='NOTION_ADD_PAGE_CONTENT', description='Appends a single content block to a notion page or a parent block (must be page, toggle, to-do, bulleted/numbered list, callout, or quote); invoke repeatedly to add multiple blocks.', args_schema=<class 'composio.utils.shared.AddPageContentRequest'>, handle_tool_error=True, handle_validation_error=True, func=<function ComposioToolSet._wrap_action.<locals>.function at 0x000002443795E980>), StructuredTool(name='NOTION_CREATE_COMMENT', description='Adds a comment to a notion page (via `parent page id`) or to an existing discussion thread (via `discussion id`); cannot create new discussion threads on specific blocks (inline comments).', args_schema=<class 'composio.utils.shared.CreateCommentRequest'>, handle_tool_error=True, handle_validation_error=True, func=<function ComposioToolSet._wrap_action.<locals>.function at 0x000002443795E200>), StructuredTool(name='NOTION_CREATE_DATABASE', description='Creates a new notion database as a subpage under a specified parent page with a defined properties schema; use this action exclusively for creating new databases.', args_schema=<class 'composio.utils.shared.CreateDatabaseRequest'>, handle_tool_error=True, handle_validation_error=True, func=<function ComposioToolSet._wrap_action.<locals>.function at 0x000002443795F1A0>), StructuredTool(name='NOTION_CREATE_NOTION_PAGE', description='Creates a new page in a notion workspace.', args_schema=<class 'composio.utils.shared.CreateNotionPageRequest'>, handle_tool_error=True, handle_validation_error=True, func=<function ComposioToolSet._wrap_action.<locals>.function at 0x000002443795F100>), StructuredTool(name='NOTION_DELETE_BLOCK', description='Archives a notion block, page, or database using its id, which sets its \\'archived\\' property to true (like moving to \"trash\" in the ui) and allows it to be restored later.', args_schema=<class 'composio.utils.shared.DeleteBlockRequest'>, handle_tool_error=True, handle_validation_error=True, func=<function ComposioToolSet._wrap_action.<locals>.function at 0x000002443795F240>), StructuredTool(name='NOTION_FETCH_COMMENTS', description='Fetches unresolved comments for a specified notion block or page id.', args_schema=<class 'composio.utils.shared.FetchCommentsRequest'>, handle_tool_error=True, handle_validation_error=True, func=<function ComposioToolSet._wrap_action.<locals>.function at 0x000002443795F2E0>), StructuredTool(name='NOTION_FETCH_DATA', description=\"Simplifies the retrieval of notion items by abstracting the native notion api's complexity.\", args_schema=<class 'composio.utils.shared.FetchDataRequest'>, handle_tool_error=True, handle_validation_error=True, func=<function ComposioToolSet._wrap_action.<locals>.function at 0x000002443795F380>), StructuredTool(name='NOTION_FETCH_DATABASE', description=\"Fetches a notion database's structural metadata (properties, title, etc.) via its `database id`, not the data entries; `database id` must reference an existing database.\", args_schema=<class 'composio.utils.shared.FetchDatabaseRequest'>, handle_tool_error=True, handle_validation_error=True, func=<function ComposioToolSet._wrap_action.<locals>.function at 0x000002443795F420>), StructuredTool(name='NOTION_FETCH_ROW', description=\"Retrieves a notion database row's properties and metadata; use a different action for page content blocks.\", args_schema=<class 'composio.utils.shared.FetchRowRequest'>, handle_tool_error=True, handle_validation_error=True, func=<function ComposioToolSet._wrap_action.<locals>.function at 0x000002443795F4C0>), StructuredTool(name='NOTION_GET_ABOUT_ME', description=\"Retrieves the user object for the bot associated with the current notion integration token, typically to obtain the bot's user id for other api operations.\", args_schema=<class 'composio.utils.shared.GetAboutMeRequest'>, handle_tool_error=True, handle_validation_error=True, func=<function ComposioToolSet._wrap_action.<locals>.function at 0x000002443795F560>), StructuredTool(name='NOTION_GET_ABOUT_USER', description='Retrieves detailed information about a specific notion user, such as their name, avatar, and email, based on their unique user id.', args_schema=<class 'composio.utils.shared.GetAboutUserRequest'>, handle_tool_error=True, handle_validation_error=True, func=<function ComposioToolSet._wrap_action.<locals>.function at 0x000002443795F600>), StructuredTool(name='NOTION_INSERT_ROW_DATABASE', description='Creates a new page (row) in a specified notion database.', args_schema=<class 'composio.utils.shared.InsertRowDatabaseRequest'>, handle_tool_error=True, handle_validation_error=True, func=<function ComposioToolSet._wrap_action.<locals>.function at 0x000002443795F740>), StructuredTool(name='NOTION_LIST_USERS', description='Retrieves a paginated list of users (excluding guests) from the notion workspace; the number of users returned per page may be less than the requested `page size`.', args_schema=<class 'composio.utils.shared.ListUsersRequest'>, handle_tool_error=True, handle_validation_error=True, func=<function ComposioToolSet._wrap_action.<locals>.function at 0x000002443795F6A0>), StructuredTool(name='NOTION_QUERY_DATABASE', description='Queries a notion database for pages (rows), where rows are pages and columns are properties; ensure sort property names correspond to existing database properties.', args_schema=<class 'composio.utils.shared.QueryDatabaseRequest'>, handle_tool_error=True, handle_validation_error=True, func=<function ComposioToolSet._wrap_action.<locals>.function at 0x000002443795F7E0>), StructuredTool(name='NOTION_RETRIEVE_COMMENT', description='Tool to retrieve a specific comment by its id. use when you have a comment id and need to fetch its details.', args_schema=<class 'composio.utils.shared.RetrieveCommentRequest'>, handle_tool_error=True, handle_validation_error=True, func=<function ComposioToolSet._wrap_action.<locals>.function at 0x000002443795F880>), StructuredTool(name='NOTION_RETRIEVE_DATABASE_PROPERTY', description='Tool to retrieve a specific property object of a notion database. use when you need to get details about a single database column/property.', args_schema=<class 'composio.utils.shared.RetrieveDatabasePropertyRequest'>, handle_tool_error=True, handle_validation_error=True, func=<function ComposioToolSet._wrap_action.<locals>.function at 0x000002443795F920>), StructuredTool(name='NOTION_UPDATE_PAGE', description='Tool to update the properties, icon, cover, or archive status of a page. use when you need to modify existing page attributes.', args_schema=<class 'composio.utils.shared.UpdatePageRequest'>, handle_tool_error=True, handle_validation_error=True, func=<function ComposioToolSet._wrap_action.<locals>.function at 0x000002443795F9C0>), StructuredTool(name='NOTION_UPDATE_ROW_DATABASE', description='Updates or archives an existing notion database row (page) using its `row id`, allowing modification of its icon, cover, and/or properties; ensure the target page is accessible and property details (names/ids and values) align with the database schema and specified formats.', args_schema=<class 'composio.utils.shared.UpdateRowDatabaseRequest'>, handle_tool_error=True, handle_validation_error=True, func=<function ComposioToolSet._wrap_action.<locals>.function at 0x000002443795FB00>), StructuredTool(name='NOTION_UPDATE_SCHEMA_DATABASE', description=\"Updates an existing notion database's title, description, and/or properties; at least one of these attributes must be provided to effect a change.\", args_schema=<class 'composio.utils.shared.UpdateSchemaDatabaseRequest'>, handle_tool_error=True, handle_validation_error=True, func=<function ComposioToolSet._wrap_action.<locals>.function at 0x000002443795FA60>)] is not a callable object",
     "output_type": "error",
     "traceback": [
      "\u001b[1;31m---------------------------------------------------------------------------\u001b[0m",
      "\u001b[1;31mTypeError\u001b[0m                                 Traceback (most recent call last)",
      "Cell \u001b[1;32mIn[9], line 1\u001b[0m\n\u001b[1;32m----> 1\u001b[0m agent\u001b[38;5;241m=\u001b[39m\u001b[43mNotionagent\u001b[49m\u001b[43m(\u001b[49m\u001b[43mapi_keys\u001b[49m\u001b[38;5;241;43m=\u001b[39;49m\u001b[43mapi_keys\u001b[49m\u001b[43m)\u001b[49m\n",
      "File \u001b[1;32mc:\\Users\\trist\\OneDrive\\Desktop\\important\\ai_portfolio\\Notion-agent\\notion_agent.py:41\u001b[0m, in \u001b[0;36mNotionagent.__init__\u001b[1;34m(self, api_keys)\u001b[0m\n\u001b[0;32m     38\u001b[0m \u001b[38;5;66;03m# Get Composio tools for Notion\u001b[39;00m\n\u001b[0;32m     39\u001b[0m notion_tools \u001b[38;5;241m=\u001b[39m \u001b[38;5;28mself\u001b[39m\u001b[38;5;241m.\u001b[39mtools\u001b[38;5;241m.\u001b[39mget_tools(apps\u001b[38;5;241m=\u001b[39m[App\u001b[38;5;241m.\u001b[39mNOTION])\n\u001b[1;32m---> 41\u001b[0m \u001b[38;5;28mself\u001b[39m\u001b[38;5;241m.\u001b[39magent\u001b[38;5;241m=\u001b[39m\u001b[43mAgent\u001b[49m\u001b[43m(\u001b[49m\n\u001b[0;32m     42\u001b[0m \u001b[43m    \u001b[49m\u001b[38;5;28;43mself\u001b[39;49m\u001b[38;5;241;43m.\u001b[39;49m\u001b[43mllm\u001b[49m\u001b[43m,\u001b[49m\u001b[43m \u001b[49m\n\u001b[0;32m     43\u001b[0m \u001b[43m    \u001b[49m\u001b[43mtools\u001b[49m\u001b[38;5;241;43m=\u001b[39;49m\u001b[43m[\u001b[49m\u001b[43magent_notes\u001b[49m\u001b[43m,\u001b[49m\u001b[43m \u001b[49m\u001b[43mnotion_tools\u001b[49m\u001b[43m]\u001b[49m\u001b[43m,\u001b[49m\n\u001b[0;32m     44\u001b[0m \u001b[43m    \u001b[49m\u001b[43minstructions\u001b[49m\u001b[38;5;241;43m=\u001b[39;49m\u001b[38;5;124;43m\"\u001b[39;49m\u001b[38;5;124;43mYou are a helpful assistant that can help with tasks related to Notion. \u001b[39;49m\u001b[38;5;124;43m\"\u001b[39;49m\n\u001b[0;32m     45\u001b[0m \u001b[43m                \u001b[49m\u001b[38;5;124;43m\"\u001b[39;49m\u001b[38;5;124;43mYou have access to Notion tools through Composio and a notes tool to improve your performance. \u001b[39;49m\u001b[38;5;124;43m\"\u001b[39;49m\n\u001b[0;32m     46\u001b[0m \u001b[43m                \u001b[49m\u001b[38;5;124;43m\"\u001b[39;49m\u001b[38;5;124;43mYou can use the notes to improve your performance and to help you with your tasks. \u001b[39;49m\u001b[38;5;124;43m\"\u001b[39;49m\n\u001b[0;32m     47\u001b[0m \u001b[43m                \u001b[49m\u001b[38;5;124;43m\"\u001b[39;49m\u001b[38;5;124;43mWhen working with Notion, you can create pages, update content, search databases, and more.\u001b[39;49m\u001b[38;5;124;43m\"\u001b[39;49m\n\u001b[0;32m     48\u001b[0m \u001b[43m\u001b[49m\u001b[43m)\u001b[49m\n",
      "File \u001b[1;32mc:\\Users\\trist\\OneDrive\\Desktop\\important\\ai_portfolio\\Notion-agent\\.venv\\Lib\\site-packages\\pydantic_ai\\agent.py:350\u001b[0m, in \u001b[0;36mAgent.__init__\u001b[1;34m(self, model, output_type, instructions, system_prompt, deps_type, name, model_settings, retries, output_retries, tools, prepare_tools, mcp_servers, defer_model_check, end_strategy, instrument, **_deprecated_kwargs)\u001b[0m\n\u001b[0;32m    348\u001b[0m     \u001b[38;5;28mself\u001b[39m\u001b[38;5;241m.\u001b[39m_register_tool(tool)\n\u001b[0;32m    349\u001b[0m \u001b[38;5;28;01melse\u001b[39;00m:\n\u001b[1;32m--> 350\u001b[0m     \u001b[38;5;28mself\u001b[39m\u001b[38;5;241m.\u001b[39m_register_tool(\u001b[43mTool\u001b[49m\u001b[43m(\u001b[49m\u001b[43mtool\u001b[49m\u001b[43m)\u001b[49m)\n",
      "File \u001b[1;32mc:\\Users\\trist\\OneDrive\\Desktop\\important\\ai_portfolio\\Notion-agent\\.venv\\Lib\\site-packages\\pydantic_ai\\tools.py:296\u001b[0m, in \u001b[0;36mTool.__init__\u001b[1;34m(self, function, takes_ctx, max_retries, name, description, prepare, docstring_format, require_parameter_descriptions, schema_generator, strict, function_schema)\u001b[0m\n\u001b[0;32m    242\u001b[0m \u001b[38;5;250m\u001b[39m\u001b[38;5;124;03m\"\"\"Create a new tool instance.\u001b[39;00m\n\u001b[0;32m    243\u001b[0m \n\u001b[0;32m    244\u001b[0m \u001b[38;5;124;03mExample usage:\u001b[39;00m\n\u001b[1;32m   (...)\u001b[0m\n\u001b[0;32m    293\u001b[0m \u001b[38;5;124;03m    function_schema: The function schema to use for the tool. If not provided, it will be generated.\u001b[39;00m\n\u001b[0;32m    294\u001b[0m \u001b[38;5;124;03m\"\"\"\u001b[39;00m\n\u001b[0;32m    295\u001b[0m \u001b[38;5;28mself\u001b[39m\u001b[38;5;241m.\u001b[39mfunction \u001b[38;5;241m=\u001b[39m function\n\u001b[1;32m--> 296\u001b[0m \u001b[38;5;28mself\u001b[39m\u001b[38;5;241m.\u001b[39mfunction_schema \u001b[38;5;241m=\u001b[39m function_schema \u001b[38;5;129;01mor\u001b[39;00m \u001b[43m_function_schema\u001b[49m\u001b[38;5;241;43m.\u001b[39;49m\u001b[43mfunction_schema\u001b[49m\u001b[43m(\u001b[49m\n\u001b[0;32m    297\u001b[0m \u001b[43m    \u001b[49m\u001b[43mfunction\u001b[49m\u001b[43m,\u001b[49m\n\u001b[0;32m    298\u001b[0m \u001b[43m    \u001b[49m\u001b[43mschema_generator\u001b[49m\u001b[43m,\u001b[49m\n\u001b[0;32m    299\u001b[0m \u001b[43m    \u001b[49m\u001b[43mtakes_ctx\u001b[49m\u001b[38;5;241;43m=\u001b[39;49m\u001b[43mtakes_ctx\u001b[49m\u001b[43m,\u001b[49m\n\u001b[0;32m    300\u001b[0m \u001b[43m    \u001b[49m\u001b[43mdocstring_format\u001b[49m\u001b[38;5;241;43m=\u001b[39;49m\u001b[43mdocstring_format\u001b[49m\u001b[43m,\u001b[49m\n\u001b[0;32m    301\u001b[0m \u001b[43m    \u001b[49m\u001b[43mrequire_parameter_descriptions\u001b[49m\u001b[38;5;241;43m=\u001b[39;49m\u001b[43mrequire_parameter_descriptions\u001b[49m\u001b[43m,\u001b[49m\n\u001b[0;32m    302\u001b[0m \u001b[43m\u001b[49m\u001b[43m)\u001b[49m\n\u001b[0;32m    303\u001b[0m \u001b[38;5;28mself\u001b[39m\u001b[38;5;241m.\u001b[39mtakes_ctx \u001b[38;5;241m=\u001b[39m \u001b[38;5;28mself\u001b[39m\u001b[38;5;241m.\u001b[39mfunction_schema\u001b[38;5;241m.\u001b[39mtakes_ctx\n\u001b[0;32m    304\u001b[0m \u001b[38;5;28mself\u001b[39m\u001b[38;5;241m.\u001b[39mmax_retries \u001b[38;5;241m=\u001b[39m max_retries\n",
      "File \u001b[1;32mc:\\Users\\trist\\OneDrive\\Desktop\\important\\ai_portfolio\\Notion-agent\\.venv\\Lib\\site-packages\\pydantic_ai\\_function_schema.py:96\u001b[0m, in \u001b[0;36mfunction_schema\u001b[1;34m(function, schema_generator, takes_ctx, docstring_format, require_parameter_descriptions)\u001b[0m\n\u001b[0;32m     83\u001b[0m \u001b[38;5;250m\u001b[39m\u001b[38;5;124;03m\"\"\"Build a Pydantic validator and JSON schema from a tool function.\u001b[39;00m\n\u001b[0;32m     84\u001b[0m \n\u001b[0;32m     85\u001b[0m \u001b[38;5;124;03mArgs:\u001b[39;00m\n\u001b[1;32m   (...)\u001b[0m\n\u001b[0;32m     93\u001b[0m \u001b[38;5;124;03m    A `FunctionSchema` instance.\u001b[39;00m\n\u001b[0;32m     94\u001b[0m \u001b[38;5;124;03m\"\"\"\u001b[39;00m\n\u001b[0;32m     95\u001b[0m \u001b[38;5;28;01mif\u001b[39;00m takes_ctx \u001b[38;5;129;01mis\u001b[39;00m \u001b[38;5;28;01mNone\u001b[39;00m:\n\u001b[1;32m---> 96\u001b[0m     takes_ctx \u001b[38;5;241m=\u001b[39m \u001b[43m_takes_ctx\u001b[49m\u001b[43m(\u001b[49m\u001b[43mfunction\u001b[49m\u001b[43m)\u001b[49m\n\u001b[0;32m     98\u001b[0m config \u001b[38;5;241m=\u001b[39m ConfigDict(title\u001b[38;5;241m=\u001b[39mfunction\u001b[38;5;241m.\u001b[39m\u001b[38;5;18m__name__\u001b[39m, use_attribute_docstrings\u001b[38;5;241m=\u001b[39m\u001b[38;5;28;01mTrue\u001b[39;00m)\n\u001b[0;32m     99\u001b[0m config_wrapper \u001b[38;5;241m=\u001b[39m ConfigWrapper(config)\n",
      "File \u001b[1;32mc:\\Users\\trist\\OneDrive\\Desktop\\important\\ai_portfolio\\Notion-agent\\.venv\\Lib\\site-packages\\pydantic_ai\\_function_schema.py:231\u001b[0m, in \u001b[0;36m_takes_ctx\u001b[1;34m(function)\u001b[0m\n\u001b[0;32m    222\u001b[0m \u001b[38;5;28;01mdef\u001b[39;00m\u001b[38;5;250m \u001b[39m\u001b[38;5;21m_takes_ctx\u001b[39m(function: Callable[\u001b[38;5;241m.\u001b[39m\u001b[38;5;241m.\u001b[39m\u001b[38;5;241m.\u001b[39m, Any]) \u001b[38;5;241m-\u001b[39m\u001b[38;5;241m>\u001b[39m \u001b[38;5;28mbool\u001b[39m:\n\u001b[0;32m    223\u001b[0m \u001b[38;5;250m    \u001b[39m\u001b[38;5;124;03m\"\"\"Check if a function takes a `RunContext` first argument.\u001b[39;00m\n\u001b[0;32m    224\u001b[0m \n\u001b[0;32m    225\u001b[0m \u001b[38;5;124;03m    Args:\u001b[39;00m\n\u001b[1;32m   (...)\u001b[0m\n\u001b[0;32m    229\u001b[0m \u001b[38;5;124;03m        `True` if the function takes a `RunContext` as first argument, `False` otherwise.\u001b[39;00m\n\u001b[0;32m    230\u001b[0m \u001b[38;5;124;03m    \"\"\"\u001b[39;00m\n\u001b[1;32m--> 231\u001b[0m     sig \u001b[38;5;241m=\u001b[39m \u001b[43msignature\u001b[49m\u001b[43m(\u001b[49m\u001b[43mfunction\u001b[49m\u001b[43m)\u001b[49m\n\u001b[0;32m    232\u001b[0m     \u001b[38;5;28;01mtry\u001b[39;00m:\n\u001b[0;32m    233\u001b[0m         first_param_name \u001b[38;5;241m=\u001b[39m \u001b[38;5;28mnext\u001b[39m(\u001b[38;5;28miter\u001b[39m(sig\u001b[38;5;241m.\u001b[39mparameters\u001b[38;5;241m.\u001b[39mkeys()))\n",
      "File \u001b[1;32m~\\AppData\\Local\\Programs\\Python\\Python313\\Lib\\inspect.py:3344\u001b[0m, in \u001b[0;36msignature\u001b[1;34m(obj, follow_wrapped, globals, locals, eval_str)\u001b[0m\n\u001b[0;32m   3342\u001b[0m \u001b[38;5;28;01mdef\u001b[39;00m\u001b[38;5;250m \u001b[39m\u001b[38;5;21msignature\u001b[39m(obj, \u001b[38;5;241m*\u001b[39m, follow_wrapped\u001b[38;5;241m=\u001b[39m\u001b[38;5;28;01mTrue\u001b[39;00m, \u001b[38;5;28mglobals\u001b[39m\u001b[38;5;241m=\u001b[39m\u001b[38;5;28;01mNone\u001b[39;00m, \u001b[38;5;28mlocals\u001b[39m\u001b[38;5;241m=\u001b[39m\u001b[38;5;28;01mNone\u001b[39;00m, eval_str\u001b[38;5;241m=\u001b[39m\u001b[38;5;28;01mFalse\u001b[39;00m):\n\u001b[0;32m   3343\u001b[0m \u001b[38;5;250m    \u001b[39m\u001b[38;5;124;03m\"\"\"Get a signature object for the passed callable.\"\"\"\u001b[39;00m\n\u001b[1;32m-> 3344\u001b[0m     \u001b[38;5;28;01mreturn\u001b[39;00m \u001b[43mSignature\u001b[49m\u001b[38;5;241;43m.\u001b[39;49m\u001b[43mfrom_callable\u001b[49m\u001b[43m(\u001b[49m\u001b[43mobj\u001b[49m\u001b[43m,\u001b[49m\u001b[43m \u001b[49m\u001b[43mfollow_wrapped\u001b[49m\u001b[38;5;241;43m=\u001b[39;49m\u001b[43mfollow_wrapped\u001b[49m\u001b[43m,\u001b[49m\n\u001b[0;32m   3345\u001b[0m \u001b[43m                                   \u001b[49m\u001b[38;5;28;43mglobals\u001b[39;49m\u001b[38;5;241;43m=\u001b[39;49m\u001b[38;5;28;43mglobals\u001b[39;49m\u001b[43m,\u001b[49m\u001b[43m \u001b[49m\u001b[38;5;28;43mlocals\u001b[39;49m\u001b[38;5;241;43m=\u001b[39;49m\u001b[38;5;28;43mlocals\u001b[39;49m\u001b[43m,\u001b[49m\u001b[43m \u001b[49m\u001b[43meval_str\u001b[49m\u001b[38;5;241;43m=\u001b[39;49m\u001b[43meval_str\u001b[49m\u001b[43m)\u001b[49m\n",
      "File \u001b[1;32m~\\AppData\\Local\\Programs\\Python\\Python313\\Lib\\inspect.py:3070\u001b[0m, in \u001b[0;36mSignature.from_callable\u001b[1;34m(cls, obj, follow_wrapped, globals, locals, eval_str)\u001b[0m\n\u001b[0;32m   3066\u001b[0m \u001b[38;5;129m@classmethod\u001b[39m\n\u001b[0;32m   3067\u001b[0m \u001b[38;5;28;01mdef\u001b[39;00m\u001b[38;5;250m \u001b[39m\u001b[38;5;21mfrom_callable\u001b[39m(\u001b[38;5;28mcls\u001b[39m, obj, \u001b[38;5;241m*\u001b[39m,\n\u001b[0;32m   3068\u001b[0m                   follow_wrapped\u001b[38;5;241m=\u001b[39m\u001b[38;5;28;01mTrue\u001b[39;00m, \u001b[38;5;28mglobals\u001b[39m\u001b[38;5;241m=\u001b[39m\u001b[38;5;28;01mNone\u001b[39;00m, \u001b[38;5;28mlocals\u001b[39m\u001b[38;5;241m=\u001b[39m\u001b[38;5;28;01mNone\u001b[39;00m, eval_str\u001b[38;5;241m=\u001b[39m\u001b[38;5;28;01mFalse\u001b[39;00m):\n\u001b[0;32m   3069\u001b[0m \u001b[38;5;250m    \u001b[39m\u001b[38;5;124;03m\"\"\"Constructs Signature for the given callable object.\"\"\"\u001b[39;00m\n\u001b[1;32m-> 3070\u001b[0m     \u001b[38;5;28;01mreturn\u001b[39;00m \u001b[43m_signature_from_callable\u001b[49m\u001b[43m(\u001b[49m\u001b[43mobj\u001b[49m\u001b[43m,\u001b[49m\u001b[43m \u001b[49m\u001b[43msigcls\u001b[49m\u001b[38;5;241;43m=\u001b[39;49m\u001b[38;5;28;43mcls\u001b[39;49m\u001b[43m,\u001b[49m\n\u001b[0;32m   3071\u001b[0m \u001b[43m                                    \u001b[49m\u001b[43mfollow_wrapper_chains\u001b[49m\u001b[38;5;241;43m=\u001b[39;49m\u001b[43mfollow_wrapped\u001b[49m\u001b[43m,\u001b[49m\n\u001b[0;32m   3072\u001b[0m \u001b[43m                                    \u001b[49m\u001b[38;5;28;43mglobals\u001b[39;49m\u001b[38;5;241;43m=\u001b[39;49m\u001b[38;5;28;43mglobals\u001b[39;49m\u001b[43m,\u001b[49m\u001b[43m \u001b[49m\u001b[38;5;28;43mlocals\u001b[39;49m\u001b[38;5;241;43m=\u001b[39;49m\u001b[38;5;28;43mlocals\u001b[39;49m\u001b[43m,\u001b[49m\u001b[43m \u001b[49m\u001b[43meval_str\u001b[49m\u001b[38;5;241;43m=\u001b[39;49m\u001b[43meval_str\u001b[49m\u001b[43m)\u001b[49m\n",
      "File \u001b[1;32m~\\AppData\\Local\\Programs\\Python\\Python313\\Lib\\inspect.py:2498\u001b[0m, in \u001b[0;36m_signature_from_callable\u001b[1;34m(obj, follow_wrapper_chains, skip_bound_arg, globals, locals, eval_str, sigcls)\u001b[0m\n\u001b[0;32m   2489\u001b[0m _get_signature_of \u001b[38;5;241m=\u001b[39m functools\u001b[38;5;241m.\u001b[39mpartial(_signature_from_callable,\n\u001b[0;32m   2490\u001b[0m                             follow_wrapper_chains\u001b[38;5;241m=\u001b[39mfollow_wrapper_chains,\n\u001b[0;32m   2491\u001b[0m                             skip_bound_arg\u001b[38;5;241m=\u001b[39mskip_bound_arg,\n\u001b[1;32m   (...)\u001b[0m\n\u001b[0;32m   2494\u001b[0m                             sigcls\u001b[38;5;241m=\u001b[39msigcls,\n\u001b[0;32m   2495\u001b[0m                             eval_str\u001b[38;5;241m=\u001b[39meval_str)\n\u001b[0;32m   2497\u001b[0m \u001b[38;5;28;01mif\u001b[39;00m \u001b[38;5;129;01mnot\u001b[39;00m \u001b[38;5;28mcallable\u001b[39m(obj):\n\u001b[1;32m-> 2498\u001b[0m     \u001b[38;5;28;01mraise\u001b[39;00m \u001b[38;5;167;01mTypeError\u001b[39;00m(\u001b[38;5;124m'\u001b[39m\u001b[38;5;132;01m{!r}\u001b[39;00m\u001b[38;5;124m is not a callable object\u001b[39m\u001b[38;5;124m'\u001b[39m\u001b[38;5;241m.\u001b[39mformat(obj))\n\u001b[0;32m   2500\u001b[0m \u001b[38;5;28;01mif\u001b[39;00m \u001b[38;5;28misinstance\u001b[39m(obj, types\u001b[38;5;241m.\u001b[39mMethodType):\n\u001b[0;32m   2501\u001b[0m     \u001b[38;5;66;03m# In this case we skip the first parameter of the underlying\u001b[39;00m\n\u001b[0;32m   2502\u001b[0m     \u001b[38;5;66;03m# function (usually `self` or `cls`).\u001b[39;00m\n\u001b[0;32m   2503\u001b[0m     sig \u001b[38;5;241m=\u001b[39m _get_signature_of(obj\u001b[38;5;241m.\u001b[39m\u001b[38;5;18m__func__\u001b[39m)\n",
      "\u001b[1;31mTypeError\u001b[0m: [StructuredTool(name='NOTION_ADD_PAGE_CONTENT', description='Appends a single content block to a notion page or a parent block (must be page, toggle, to-do, bulleted/numbered list, callout, or quote); invoke repeatedly to add multiple blocks.', args_schema=<class 'composio.utils.shared.AddPageContentRequest'>, handle_tool_error=True, handle_validation_error=True, func=<function ComposioToolSet._wrap_action.<locals>.function at 0x000002443795E980>), StructuredTool(name='NOTION_CREATE_COMMENT', description='Adds a comment to a notion page (via `parent page id`) or to an existing discussion thread (via `discussion id`); cannot create new discussion threads on specific blocks (inline comments).', args_schema=<class 'composio.utils.shared.CreateCommentRequest'>, handle_tool_error=True, handle_validation_error=True, func=<function ComposioToolSet._wrap_action.<locals>.function at 0x000002443795E200>), StructuredTool(name='NOTION_CREATE_DATABASE', description='Creates a new notion database as a subpage under a specified parent page with a defined properties schema; use this action exclusively for creating new databases.', args_schema=<class 'composio.utils.shared.CreateDatabaseRequest'>, handle_tool_error=True, handle_validation_error=True, func=<function ComposioToolSet._wrap_action.<locals>.function at 0x000002443795F1A0>), StructuredTool(name='NOTION_CREATE_NOTION_PAGE', description='Creates a new page in a notion workspace.', args_schema=<class 'composio.utils.shared.CreateNotionPageRequest'>, handle_tool_error=True, handle_validation_error=True, func=<function ComposioToolSet._wrap_action.<locals>.function at 0x000002443795F100>), StructuredTool(name='NOTION_DELETE_BLOCK', description='Archives a notion block, page, or database using its id, which sets its \\'archived\\' property to true (like moving to \"trash\" in the ui) and allows it to be restored later.', args_schema=<class 'composio.utils.shared.DeleteBlockRequest'>, handle_tool_error=True, handle_validation_error=True, func=<function ComposioToolSet._wrap_action.<locals>.function at 0x000002443795F240>), StructuredTool(name='NOTION_FETCH_COMMENTS', description='Fetches unresolved comments for a specified notion block or page id.', args_schema=<class 'composio.utils.shared.FetchCommentsRequest'>, handle_tool_error=True, handle_validation_error=True, func=<function ComposioToolSet._wrap_action.<locals>.function at 0x000002443795F2E0>), StructuredTool(name='NOTION_FETCH_DATA', description=\"Simplifies the retrieval of notion items by abstracting the native notion api's complexity.\", args_schema=<class 'composio.utils.shared.FetchDataRequest'>, handle_tool_error=True, handle_validation_error=True, func=<function ComposioToolSet._wrap_action.<locals>.function at 0x000002443795F380>), StructuredTool(name='NOTION_FETCH_DATABASE', description=\"Fetches a notion database's structural metadata (properties, title, etc.) via its `database id`, not the data entries; `database id` must reference an existing database.\", args_schema=<class 'composio.utils.shared.FetchDatabaseRequest'>, handle_tool_error=True, handle_validation_error=True, func=<function ComposioToolSet._wrap_action.<locals>.function at 0x000002443795F420>), StructuredTool(name='NOTION_FETCH_ROW', description=\"Retrieves a notion database row's properties and metadata; use a different action for page content blocks.\", args_schema=<class 'composio.utils.shared.FetchRowRequest'>, handle_tool_error=True, handle_validation_error=True, func=<function ComposioToolSet._wrap_action.<locals>.function at 0x000002443795F4C0>), StructuredTool(name='NOTION_GET_ABOUT_ME', description=\"Retrieves the user object for the bot associated with the current notion integration token, typically to obtain the bot's user id for other api operations.\", args_schema=<class 'composio.utils.shared.GetAboutMeRequest'>, handle_tool_error=True, handle_validation_error=True, func=<function ComposioToolSet._wrap_action.<locals>.function at 0x000002443795F560>), StructuredTool(name='NOTION_GET_ABOUT_USER', description='Retrieves detailed information about a specific notion user, such as their name, avatar, and email, based on their unique user id.', args_schema=<class 'composio.utils.shared.GetAboutUserRequest'>, handle_tool_error=True, handle_validation_error=True, func=<function ComposioToolSet._wrap_action.<locals>.function at 0x000002443795F600>), StructuredTool(name='NOTION_INSERT_ROW_DATABASE', description='Creates a new page (row) in a specified notion database.', args_schema=<class 'composio.utils.shared.InsertRowDatabaseRequest'>, handle_tool_error=True, handle_validation_error=True, func=<function ComposioToolSet._wrap_action.<locals>.function at 0x000002443795F740>), StructuredTool(name='NOTION_LIST_USERS', description='Retrieves a paginated list of users (excluding guests) from the notion workspace; the number of users returned per page may be less than the requested `page size`.', args_schema=<class 'composio.utils.shared.ListUsersRequest'>, handle_tool_error=True, handle_validation_error=True, func=<function ComposioToolSet._wrap_action.<locals>.function at 0x000002443795F6A0>), StructuredTool(name='NOTION_QUERY_DATABASE', description='Queries a notion database for pages (rows), where rows are pages and columns are properties; ensure sort property names correspond to existing database properties.', args_schema=<class 'composio.utils.shared.QueryDatabaseRequest'>, handle_tool_error=True, handle_validation_error=True, func=<function ComposioToolSet._wrap_action.<locals>.function at 0x000002443795F7E0>), StructuredTool(name='NOTION_RETRIEVE_COMMENT', description='Tool to retrieve a specific comment by its id. use when you have a comment id and need to fetch its details.', args_schema=<class 'composio.utils.shared.RetrieveCommentRequest'>, handle_tool_error=True, handle_validation_error=True, func=<function ComposioToolSet._wrap_action.<locals>.function at 0x000002443795F880>), StructuredTool(name='NOTION_RETRIEVE_DATABASE_PROPERTY', description='Tool to retrieve a specific property object of a notion database. use when you need to get details about a single database column/property.', args_schema=<class 'composio.utils.shared.RetrieveDatabasePropertyRequest'>, handle_tool_error=True, handle_validation_error=True, func=<function ComposioToolSet._wrap_action.<locals>.function at 0x000002443795F920>), StructuredTool(name='NOTION_UPDATE_PAGE', description='Tool to update the properties, icon, cover, or archive status of a page. use when you need to modify existing page attributes.', args_schema=<class 'composio.utils.shared.UpdatePageRequest'>, handle_tool_error=True, handle_validation_error=True, func=<function ComposioToolSet._wrap_action.<locals>.function at 0x000002443795F9C0>), StructuredTool(name='NOTION_UPDATE_ROW_DATABASE', description='Updates or archives an existing notion database row (page) using its `row id`, allowing modification of its icon, cover, and/or properties; ensure the target page is accessible and property details (names/ids and values) align with the database schema and specified formats.', args_schema=<class 'composio.utils.shared.UpdateRowDatabaseRequest'>, handle_tool_error=True, handle_validation_error=True, func=<function ComposioToolSet._wrap_action.<locals>.function at 0x000002443795FB00>), StructuredTool(name='NOTION_UPDATE_SCHEMA_DATABASE', description=\"Updates an existing notion database's title, description, and/or properties; at least one of these attributes must be provided to effect a change.\", args_schema=<class 'composio.utils.shared.UpdateSchemaDatabaseRequest'>, handle_tool_error=True, handle_validation_error=True, func=<function ComposioToolSet._wrap_action.<locals>.function at 0x000002443795FA60>)] is not a callable object"
     ]
    }
   ],
   "source": [
    "agent=Notionagent(api_keys=api_keys)"
   ]
  },
  {
   "cell_type": "code",
   "execution_count": 12,
   "metadata": {},
   "outputs": [
    {
     "name": "stderr",
     "output_type": "stream",
     "text": [
      "  + Exception Group Traceback (most recent call last):\n",
      "  |   File \"c:\\Users\\trist\\OneDrive\\Desktop\\important\\ai_portfolio\\Notion-agent\\.venv\\Lib\\site-packages\\IPython\\core\\interactiveshell.py\", line 3577, in run_code\n",
      "  |     await eval(code_obj, self.user_global_ns, self.user_ns)\n",
      "  |   File \"C:\\Users\\trist\\AppData\\Local\\Temp\\ipykernel_18904\\1283318175.py\", line 1, in <module>\n",
      "  |     await agent.chat('hello')\n",
      "  |   File \"c:\\Users\\trist\\OneDrive\\Desktop\\important\\ai_portfolio\\Notion-agent\\notion_agent.py\", line 46, in chat\n",
      "  |     async with self.agent.run_mcp_servers():\n",
      "  |                ~~~~~~~~~~~~~~~~~~~~~~~~~~^^\n",
      "  |   File \"C:\\Users\\trist\\AppData\\Local\\Programs\\Python\\Python313\\Lib\\contextlib.py\", line 214, in __aenter__\n",
      "  |     return await anext(self.gen)\n",
      "  |            ^^^^^^^^^^^^^^^^^^^^^\n",
      "  |   File \"c:\\Users\\trist\\OneDrive\\Desktop\\important\\ai_portfolio\\Notion-agent\\.venv\\Lib\\site-packages\\pydantic_ai\\agent.py\", line 1692, in run_mcp_servers\n",
      "  |     await exit_stack.enter_async_context(mcp_server)\n",
      "  |   File \"C:\\Users\\trist\\AppData\\Local\\Programs\\Python\\Python313\\Lib\\contextlib.py\", line 668, in enter_async_context\n",
      "  |     result = await _enter(cm)\n",
      "  |              ^^^^^^^^^^^^^^^^\n",
      "  |   File \"c:\\Users\\trist\\OneDrive\\Desktop\\important\\ai_portfolio\\Notion-agent\\.venv\\Lib\\site-packages\\pydantic_ai\\mcp.py\", line 145, in __aenter__\n",
      "  |     self._read_stream, self._write_stream = await self._exit_stack.enter_async_context(self.client_streams())\n",
      "  |                                             ^^^^^^^^^^^^^^^^^^^^^^^^^^^^^^^^^^^^^^^^^^^^^^^^^^^^^^^^^^^^^^^^^\n",
      "  |   File \"C:\\Users\\trist\\AppData\\Local\\Programs\\Python\\Python313\\Lib\\contextlib.py\", line 668, in enter_async_context\n",
      "  |     result = await _enter(cm)\n",
      "  |              ^^^^^^^^^^^^^^^^\n",
      "  |   File \"C:\\Users\\trist\\AppData\\Local\\Programs\\Python\\Python313\\Lib\\contextlib.py\", line 214, in __aenter__\n",
      "  |     return await anext(self.gen)\n",
      "  |            ^^^^^^^^^^^^^^^^^^^^^\n",
      "  |   File \"c:\\Users\\trist\\OneDrive\\Desktop\\important\\ai_portfolio\\Notion-agent\\.venv\\Lib\\site-packages\\pydantic_ai\\mcp.py\", line 416, in client_streams\n",
      "  |     async with transport_client_partial(headers=self.headers) as (read_stream, write_stream, *_):\n",
      "  |                ~~~~~~~~~~~~~~~~~~~~~~~~^^^^^^^^^^^^^^^^^^^^^^\n",
      "  |   File \"C:\\Users\\trist\\AppData\\Local\\Programs\\Python\\Python313\\Lib\\contextlib.py\", line 214, in __aenter__\n",
      "  |     return await anext(self.gen)\n",
      "  |            ^^^^^^^^^^^^^^^^^^^^^\n",
      "  |   File \"c:\\Users\\trist\\OneDrive\\Desktop\\important\\ai_portfolio\\Notion-agent\\.venv\\Lib\\site-packages\\mcp\\client\\sse.py\", line 54, in sse_client\n",
      "  |     async with anyio.create_task_group() as tg:\n",
      "  |                ~~~~~~~~~~~~~~~~~~~~~~~^^\n",
      "  |   File \"c:\\Users\\trist\\OneDrive\\Desktop\\important\\ai_portfolio\\Notion-agent\\.venv\\Lib\\site-packages\\anyio\\_backends\\_asyncio.py\", line 772, in __aexit__\n",
      "  |     raise BaseExceptionGroup(\n",
      "  |         \"unhandled errors in a TaskGroup\", self._exceptions\n",
      "  |     ) from None\n",
      "  | ExceptionGroup: unhandled errors in a TaskGroup (1 sub-exception)\n",
      "  +-+---------------- 1 ----------------\n",
      "    | Traceback (most recent call last):\n",
      "    |   File \"c:\\Users\\trist\\OneDrive\\Desktop\\important\\ai_portfolio\\Notion-agent\\.venv\\Lib\\site-packages\\mcp\\client\\sse.py\", line 64, in sse_client\n",
      "    |     event_source.response.raise_for_status()\n",
      "    |     ~~~~~~~~~~~~~~~~~~~~~~~~~~~~~~~~~~~~~~^^\n",
      "    |   File \"c:\\Users\\trist\\OneDrive\\Desktop\\important\\ai_portfolio\\Notion-agent\\.venv\\Lib\\site-packages\\httpx\\_models.py\", line 829, in raise_for_status\n",
      "    |     raise HTTPStatusError(message, request=request, response=self)\n",
      "    | httpx.HTTPStatusError: Client error '401 Unauthorized' for url 'https://mcp.notion.com/sse'\n",
      "    | For more information check: https://developer.mozilla.org/en-US/docs/Web/HTTP/Status/401\n",
      "    +------------------------------------\n"
     ]
    }
   ],
   "source": [
    "agent.chat('hello')"
   ]
  }
 ],
 "metadata": {
  "kernelspec": {
   "display_name": ".venv",
   "language": "python",
   "name": "python3"
  },
  "language_info": {
   "codemirror_mode": {
    "name": "ipython",
    "version": 3
   },
   "file_extension": ".py",
   "mimetype": "text/x-python",
   "name": "python",
   "nbconvert_exporter": "python",
   "pygments_lexer": "ipython3",
   "version": "3.13.2"
  }
 },
 "nbformat": 4,
 "nbformat_minor": 2
}
