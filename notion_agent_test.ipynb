{
 "cells": [
  {
   "cell_type": "code",
   "execution_count": null,
   "metadata": {},
   "outputs": [],
   "source": []
  },
  {
   "cell_type": "code",
   "execution_count": 3,
   "metadata": {},
   "outputs": [],
   "source": [
    "import os\n",
    "from dotenv import load_dotenv\n",
    "load_dotenv()\n",
    "\n",
    "api_keys={\n",
    "    'google_api_key':os.getenv('google_api_key'),\n",
    "    'pse':os.getenv('pse'),\n",
    "    'openai_api_key':os.getenv('openai_api_key'),\n",
    "    'composio_key':os.getenv('composio_api_key'),\n",
    "    'notion_api_key':os.getenv('notion_integration_token')  # Add your Notion API key here\n",
    "}"
   ]
  },
  {
   "cell_type": "code",
   "execution_count": 4,
   "metadata": {},
   "outputs": [],
   "source": [
    "from composio_langgraph import Action, ComposioToolSet, App\n",
    "from utils.composio_tools_agent import Composio_agent\n",
    "from pydantic_ai import Agent, format_as_xml,RunContext\n",
    "from pydantic_ai.models.google import GoogleModel\n",
    "from pydantic_ai.providers.google import GoogleProvider\n",
    "from langchain_openai import ChatOpenAI\n",
    "from datetime import datetime\n",
    "from pydantic_ai.messages import ModelMessage\n",
    "from pydantic import BaseModel,Field\n",
    "from dataclasses import dataclass\n",
    "import nest_asyncio\n",
    "nest_asyncio.apply()"
   ]
  },
  {
   "cell_type": "code",
   "execution_count": 10,
   "metadata": {},
   "outputs": [],
   "source": [
    "from pydantic_ai.mcp import MCPServerStreamableHTTP, MCPServerSSE, MCPServerStdio\n",
    "from pydantic_ai.models.openai import OpenAIModel\n",
    "from pydantic_ai.providers.openai import OpenAIProvider\n",
    "from pydantic_ai import Agent\n",
    "from pydantic_ai.messages import ModelMessage\n",
    "from dataclasses import dataclass\n",
    "\n",
    "@dataclass\n",
    "class Message_state:\n",
    "    messages:list[ModelMessage]\n",
    "\n",
    "class NotionAgent_MCP:\n",
    "    def __init__(self, mcp_server_url:str, api_keys:dict):\n",
    "        self.mcp_server_url=mcp_server_url\n",
    "        self.api_keys=api_keys\n",
    "        self.tools=ComposioToolSet(api_key=api_keys['composio_key'])\n",
    "        self.tool_shemas={\n",
    "            'Notion Manager':{tool.name:tool for tool in self.tools.get_action_schemas(apps=[App.NOTION])}}\n",
    "        self.memory=Message_state(messages=[])\n",
    "        self.llm=OpenAIModel('gpt-4.1-mini',provider=OpenAIProvider(api_key=api_keys['openai_api_key']))\n",
    "        self.mcp_server=MCPServerStreamableHTTP(self.mcp_server_url)\n",
    "        self.agent=Agent(self.llm, mcp_servers=[self.mcp_server])\n",
    "        self._mcp_context_manager = None\n",
    "        self._is_connected = False\n",
    "\n",
    "    async def connect(self):\n",
    "        \"\"\"Establish persistent connection to MCP server\"\"\"\n",
    "        if not self._is_connected:\n",
    "            self._mcp_context_manager = self.agent.run_mcp_servers()\n",
    "            await self._mcp_context_manager.__aenter__()\n",
    "            self._is_connected = True\n",
    "            print(\"Connected to MCP server\")\n",
    "\n",
    "    async def disconnect(self):\n",
    "        \"\"\"Close the MCP server connection\"\"\"\n",
    "        if self._is_connected and self._mcp_context_manager:\n",
    "            await self._mcp_context_manager.__aexit__(None, None, None)\n",
    "            self._is_connected = False\n",
    "            self._mcp_context_manager = None\n",
    "            print(\"Disconnected from MCP server\")\n",
    "    \n",
    "    async def chat(self, query: str):\n",
    "        \"\"\"Execute query using persistent MCP connection\"\"\"\n",
    "        if not self._is_connected:\n",
    "            await self.connect()\n",
    "        \n",
    "        result = self.agent.run_sync(query, message_history=self.memory.messages)\n",
    "        self.memory.messages = result.all_messages()\n",
    "        return result.output\n",
    "\n",
    "    def reset(self):\n",
    "        \"\"\"Reset conversation memory\"\"\"\n",
    "        self.memory.messages = []\n",
    "\n",
    "    async def __aenter__(self):\n",
    "        \"\"\"Async context manager entry\"\"\"\n",
    "        await self.connect()\n",
    "        return self\n",
    "\n",
    "    async def __aexit__(self, exc_type, exc_val, exc_tb):\n",
    "        \"\"\"Async context manager exit\"\"\"\n",
    "        await self.disconnect()"
   ]
  },
  {
   "cell_type": "code",
   "execution_count": 11,
   "metadata": {},
   "outputs": [
    {
     "name": "stderr",
     "output_type": "stream",
     "text": [
      "c:\\Users\\trist\\OneDrive\\Desktop\\important\\ai_portfolio\\Notion-agent\\.venv\\Lib\\site-packages\\composio\\client\\collections.py:1183: UserWarning: Using all actions of an app is not recommended for production.Learn more: https://docs.composio.dev/patterns/tools/use-tools/use-specific-actions\n",
      "\n",
      "\n",
      "  warnings.warn(\n"
     ]
    }
   ],
   "source": [
    "agent2=NotionAgent_MCP(mcp_server_url=os.getenv('mcp_server_url'), api_keys=api_keys)"
   ]
  },
  {
   "cell_type": "code",
   "execution_count": 12,
   "metadata": {},
   "outputs": [
    {
     "name": "stdout",
     "output_type": "stream",
     "text": [
      "Connected to MCP server\n",
      "Result 1: Hello! I can assist you with various tasks related to Notion, such as:\n",
      "\n",
      "- Creating, updating, and deleting pages and databases.\n",
      "- Adding content blocks to pages.\n",
      "- Fetching information about pages, databases, users, and comments.\n",
      "- Querying databases and updating database rows.\n",
      "- Managing comments and discussions within Notion.\n",
      "\n",
      "If you have any specific requests or questions about using Notion, feel free to ask! How can I assist you today?\n"
     ]
    }
   ],
   "source": [
    "# Option 1: Manual connection management\n",
    "await agent2.connect()  # Connect once\n",
    "result1 = await agent2.chat(\"Hello, what can you help me with?\")\n",
    "print(\"Result 1:\", result1)\n",
    "\n",
    "# result2 = await agent2.main(\"Create a new page in Notion with title 'Test Page'\")\n",
    "# print(\"Result 2:\", result2)\n",
    "\n",
    "# When done, disconnect\n",
    "# await agent2.disconnect()"
   ]
  },
  {
   "cell_type": "code",
   "execution_count": null,
   "metadata": {},
   "outputs": [
    {
     "data": {
      "text/plain": [
       "'Hello! How can I assist you today?'"
      ]
     },
     "execution_count": 9,
     "metadata": {},
     "output_type": "execute_result"
    }
   ],
   "source": [
    "await agent2.chat('hello')"
   ]
  },
  {
   "cell_type": "code",
   "execution_count": null,
   "metadata": {},
   "outputs": [],
   "source": [
    "# Option 2: Using async context manager (recommended)\n",
    "# This automatically connects and disconnects\n",
    "async with NotionAgent_MCP(mcp_server_url=os.getenv('mcp_server_url'), api_keys=api_keys) as agent3:\n",
    "    result1 = await agent3.main(\"Hello, what can you help me with?\")\n",
    "    print(\"Result 1:\", result1)\n",
    "    \n",
    "    result2 = await agent3.main(\"What's the current date?\")\n",
    "    print(\"Result 2:\", result2)\n",
    "    \n",
    "    result3 = await agent3.main(\"List my recent Notion pages\")\n",
    "    print(\"Result 3:\", result3)\n",
    "\n",
    "# Connection is automatically closed when exiting the context\n"
   ]
  },
  {
   "cell_type": "code",
   "execution_count": 6,
   "metadata": {},
   "outputs": [],
   "source": [
    "# from notion_agent import Notionagent\n"
   ]
  },
  {
   "cell_type": "code",
   "execution_count": null,
   "metadata": {},
   "outputs": [
    {
     "name": "stderr",
     "output_type": "stream",
     "text": [
      "c:\\Users\\trist\\OneDrive\\Desktop\\important\\ai_portfolio\\Notion-agent\\.venv\\Lib\\site-packages\\composio\\client\\collections.py:1183: UserWarning: Using all actions of an app is not recommended for production.Learn more: https://docs.composio.dev/patterns/tools/use-tools/use-specific-actions\n",
      "\n",
      "Give Feedback / Get Help:\n",
      "    On GitHub: https://github.com/ComposioHQ/composio/issues/new\n",
      "    On Discord: https://dub.composio.dev/discord\n",
      "    On Email: tech@composio.dev\n",
      "    Talk to us on Intercom: https://composio.dev\n",
      "    Book a call with us: https://composio.dev/redirect?url=https://calendly.com/composiohq/support?utm_source=py-sdk-logs&utm_campaign=calendly\n",
      "If you need to debug this error, set `COMPOSIO_LOGGING_LEVEL=debug`.\n",
      "  warnings.warn(\n"
     ]
    }
   ],
   "source": [
    "\n",
    "# agent=Notionagent(mcp_server_url=os.getenv('mcp_server_url'),api_keys=api_keys)\n",
    "\n"
   ]
  },
  {
   "cell_type": "code",
   "execution_count": 9,
   "metadata": {},
   "outputs": [
    {
     "data": {
      "text/plain": [
       "'Hello! How can I assist you today with Notion?'"
      ]
     },
     "execution_count": 9,
     "metadata": {},
     "output_type": "execute_result"
    }
   ],
   "source": [
    "await agent.chat('hello')"
   ]
  }
 ],
 "metadata": {
  "kernelspec": {
   "display_name": ".venv",
   "language": "python",
   "name": "python3"
  },
  "language_info": {
   "codemirror_mode": {
    "name": "ipython",
    "version": 3
   },
   "file_extension": ".py",
   "mimetype": "text/x-python",
   "name": "python",
   "nbconvert_exporter": "python",
   "pygments_lexer": "ipython3",
   "version": "3.13.2"
  }
 },
 "nbformat": 4,
 "nbformat_minor": 2
}
